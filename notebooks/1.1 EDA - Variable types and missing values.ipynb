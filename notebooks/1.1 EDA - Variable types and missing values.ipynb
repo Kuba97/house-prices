{
 "cells": [
  {
   "cell_type": "code",
   "execution_count": 2,
   "metadata": {},
   "outputs": [],
   "source": [
    "from data_loader import load_data\n",
    "import pandas as pd\n",
    "import numpy as np\n",
    "import matplotlib.pyplot as plt\n",
    "import seaborn as sns\n",
    "from scipy import stats"
   ]
  },
  {
   "cell_type": "code",
   "execution_count": 3,
   "metadata": {},
   "outputs": [],
   "source": [
    "train = load_data()"
   ]
  },
  {
   "cell_type": "markdown",
   "metadata": {},
   "source": [
    "## Dataset shape"
   ]
  },
  {
   "cell_type": "code",
   "execution_count": 4,
   "metadata": {},
   "outputs": [
    {
     "data": {
      "text/plain": [
       "(1460, 81)"
      ]
     },
     "execution_count": 4,
     "metadata": {},
     "output_type": "execute_result"
    }
   ],
   "source": [
    "train.shape"
   ]
  },
  {
   "cell_type": "markdown",
   "metadata": {},
   "source": [
    "## Variables"
   ]
  },
  {
   "cell_type": "code",
   "execution_count": 5,
   "metadata": {
    "scrolled": false
   },
   "outputs": [
    {
     "data": {
      "text/plain": [
       "Index(['Id', 'MSSubClass', 'MSZoning', 'LotFrontage', 'LotArea', 'Street',\n",
       "       'Alley', 'LotShape', 'LandContour', 'Utilities', 'LotConfig',\n",
       "       'LandSlope', 'Neighborhood', 'Condition1', 'Condition2', 'BldgType',\n",
       "       'HouseStyle', 'OverallQual', 'OverallCond', 'YearBuilt', 'YearRemodAdd',\n",
       "       'RoofStyle', 'RoofMatl', 'Exterior1st', 'Exterior2nd', 'MasVnrType',\n",
       "       'MasVnrArea', 'ExterQual', 'ExterCond', 'Foundation', 'BsmtQual',\n",
       "       'BsmtCond', 'BsmtExposure', 'BsmtFinType1', 'BsmtFinSF1',\n",
       "       'BsmtFinType2', 'BsmtFinSF2', 'BsmtUnfSF', 'TotalBsmtSF', 'Heating',\n",
       "       'HeatingQC', 'CentralAir', 'Electrical', '1stFlrSF', '2ndFlrSF',\n",
       "       'LowQualFinSF', 'GrLivArea', 'BsmtFullBath', 'BsmtHalfBath', 'FullBath',\n",
       "       'HalfBath', 'BedroomAbvGr', 'KitchenAbvGr', 'KitchenQual',\n",
       "       'TotRmsAbvGrd', 'Functional', 'Fireplaces', 'FireplaceQu', 'GarageType',\n",
       "       'GarageYrBlt', 'GarageFinish', 'GarageCars', 'GarageArea', 'GarageQual',\n",
       "       'GarageCond', 'PavedDrive', 'WoodDeckSF', 'OpenPorchSF',\n",
       "       'EnclosedPorch', '3SsnPorch', 'ScreenPorch', 'PoolArea', 'PoolQC',\n",
       "       'Fence', 'MiscFeature', 'MiscVal', 'MoSold', 'YrSold', 'SaleType',\n",
       "       'SaleCondition', 'SalePrice'],\n",
       "      dtype='object')"
      ]
     },
     "execution_count": 5,
     "metadata": {},
     "output_type": "execute_result"
    }
   ],
   "source": [
    "train.columns"
   ]
  },
  {
   "cell_type": "markdown",
   "metadata": {},
   "source": [
    "At the first glance, in column space we see **Id** column which doesn't takes part in model.  \n",
    "Column **SalePrice** is depend variable; model objective is to predict future sales price for new unseen data.  \n",
    "So we can split dataset for now:"
   ]
  },
  {
   "cell_type": "code",
   "execution_count": 6,
   "metadata": {},
   "outputs": [],
   "source": [
    "train = train[train.columns.difference(['Id', 'SalePrice'])]"
   ]
  },
  {
   "cell_type": "markdown",
   "metadata": {},
   "source": [
    "# Variable's categories"
   ]
  },
  {
   "cell_type": "code",
   "execution_count": 7,
   "metadata": {},
   "outputs": [
    {
     "name": "stdout",
     "output_type": "stream",
     "text": [
      "Numeric var space:   36\n",
      "Categoric var space: 43\n"
     ]
    }
   ],
   "source": [
    "col_dtypes = train.dtypes\n",
    "numeric_feats = col_dtypes[col_dtypes != 'object'].axes[0].tolist()\n",
    "categoric_feats = col_dtypes[col_dtypes == 'object'].axes[0].tolist()\n",
    "print(f'Numeric var space:   {len(numeric_feats)}')\n",
    "print(f'Categoric var space: {len(categoric_feats)}')"
   ]
  },
  {
   "cell_type": "markdown",
   "metadata": {},
   "source": [
    "Numeric variable are both continuous and discrete (we could make discrete categoric vars if it's desireable for model accuracy)     \n",
    "For model is important to transform categorical variables for dummy variables (one-hot encoding)   \n",
    "In order to keep feature space not to large (prevent curse of dimensionality), features which are ordinal could be replaced with simple encoding by integers (with respect to order of values)"
   ]
  },
  {
   "cell_type": "markdown",
   "metadata": {},
   "source": [
    "## Numercial varibles"
   ]
  },
  {
   "cell_type": "markdown",
   "metadata": {},
   "source": [
    "### Missing values\n",
    "Identification missing values and choosing right replacement strategy"
   ]
  },
  {
   "cell_type": "code",
   "execution_count": 8,
   "metadata": {},
   "outputs": [
    {
     "data": {
      "text/plain": [
       "<matplotlib.axes._subplots.AxesSubplot at 0x1e3c11bd908>"
      ]
     },
     "execution_count": 8,
     "metadata": {},
     "output_type": "execute_result"
    },
    {
     "data": {
      "image/png": "[encoded data removed]",
      "text/plain": [
       "<Figure size 432x288 with 1 Axes>"
      ]
     },
     "metadata": {},
     "output_type": "display_data"
    }
   ],
   "source": [
    "nan_numeric_info = train[numeric_feats].isnull().sum()\n",
    "nan_numeric_feats = nan_numeric_info[nan_numeric_info>0]\n",
    "nan_numeric_feats.apply(lambda x: x/train.shape[0]).sort_values(ascending=False).plot(kind='bar', ylim=(0, 1))"
   ]
  },
  {
   "cell_type": "code",
   "execution_count": 14,
   "metadata": {},
   "outputs": [],
   "source": [
    "GarageYrBlt_null_idx = train['GarageYrBlt'].isnull()\n"
   ]
  },
  {
   "cell_type": "code",
   "execution_count": 17,
   "metadata": {},
   "outputs": [
    {
     "data": {
      "text/plain": [
       "array([nan], dtype=object)"
      ]
     },
     "execution_count": 17,
     "metadata": {},
     "output_type": "execute_result"
    }
   ],
   "source": [
    "MasVnrArea_null_idx = train['MasVnrArea'].isnull()\n",
    "train[MasVnrArea_null_idx]['MasVnrType'].unique()"
   ]
  },
  {
   "cell_type": "markdown",
   "metadata": {},
   "source": [
    "1. LotFrontage is strong correlated with LotArea (look at notebook 1.2.1). Since imputing with mean or mode or zero gives bad results (such imputed values doesn't follow correlation), it seems feasible to impute with regression (predict missing) or drop this feature (due to belief, that LotFrontage is reduntant to LotArea in order to correlation with LotArea). Best imputation will be checked during model selection  \n",
    "2. GarageYrBlt missing values are at random, so they may be set to 0, since it will vanish its term in regression  \n",
    "3. MasVnrArea is set to NaN only when there is no masonry type specified"
   ]
  },
  {
   "cell_type": "code",
   "execution_count": 24,
   "metadata": {},
   "outputs": [],
   "source": [
    "train['GarageYrBlt'] = train['GarageYrBlt'].fillna(0)"
   ]
  },
  {
   "cell_type": "markdown",
   "metadata": {},
   "source": [
    "## Categorical variables"
   ]
  },
  {
   "cell_type": "markdown",
   "metadata": {},
   "source": [
    "### Missing values\n",
    "Identification missing values and choosing right replacement strategy"
   ]
  },
  {
   "cell_type": "code",
   "execution_count": 25,
   "metadata": {},
   "outputs": [
    {
     "data": {
      "image/png": "[encoded data removed]",
      "text/plain": [
       "<Figure size 432x288 with 1 Axes>"
      ]
     },
     "metadata": {},
     "output_type": "display_data"
    }
   ],
   "source": [
    "nan_categoric_info = train[categoric_feats].isnull().sum()\n",
    "nan_categoric_feats = nan_categoric_info[nan_categoric_info>0]\n",
    "if not nan_categoric_feats.empty:\n",
    "    nan_categoric_feats.apply(lambda x: x/train.shape[0]).sort_values(ascending=False).plot(kind='bar')\n",
    "else:\n",
    "    print(\"No missing value in such range\")"
   ]
  },
  {
   "cell_type": "markdown",
   "metadata": {},
   "source": [
    "1. Most of missing features presented above  are missing when there is no such feature in the house (like no pool, no basement, no garage, no masonry), so they could be replaced with value like \"None\"\n",
    "2. Missing in electrical is random, it could be replace e.g. with mode or we could do some more insight into this example (for purpose of delete this example, when classified as outlier)"
   ]
  },
  {
   "cell_type": "code",
   "execution_count": 26,
   "metadata": {},
   "outputs": [],
   "source": [
    "#Some replacement are done due to documentation specification of possible missing values\n",
    "nan_to_none_cat_feats = ['PoolQC','MiscFeature', 'Alley', 'Fence', 'FireplaceQu', 'GarageType', 'GarageQual', 'GarageFinish', 'GarageCond', 'BsmtQual', 'BsmtFinType1', 'BsmtFinType2','BsmtExposure', 'BsmtCond', 'MasVnrType']\n",
    "train[nan_to_none_cat_feats] = train[nan_to_none_cat_feats].fillna('None')\n",
    "#Electrical are no specifide to has missing values, I replace it with median\n",
    "nan_to_mode_cat_feats = ['Electrical']\n",
    "train[nan_to_mode_cat_feats] = train[nan_to_mode_cat_feats].fillna(train['Electrical'].mode()[0])"
   ]
  },
  {
   "cell_type": "markdown",
   "metadata": {},
   "source": [
    "### Oridnal features\n",
    "Ordinal features are feasible for replacing them with specified value with correct order.\n",
    "Handcrafted mappers ensures that there is no order violation during mapping (e.g. using automtic from sklearn)\n",
    "#### NOTES:\n",
    "1. Since it's quite reasonable to handle mapping with own-designeg mappers (for keep correct order), it's intractable to perform mapping during working with model (validation using pipelines have to do all this job \"on the fly\" to prevent data leakage)\n",
    "2. Mapping should always keep the rule of encoding values which aren't present in train set (e.g. train fold in cross-validation), and such handcrafted mappers doesn't follow this rule\n",
    "3. Solution for above problem is to use e.g. sklearn.LabelEncoder"
   ]
  },
  {
   "cell_type": "code",
   "execution_count": 27,
   "metadata": {},
   "outputs": [],
   "source": [
    "BsmtCond_encode = BsmtQual_encode = ExterCond_encode = ExterQual_encode = FireplaceQu_encode = GarageCond_encode = \\\n",
    "GarageQual_encode = HeatingQC_encode = KitchenQual_encode = PoolQC_encode = {'None':0, 'Po':1, 'Fa':2, 'TA':3,  'Gd':4, 'Ex':5}\n",
    "Alley_encode = {'None': 0, 'Grlv': 1, 'Pave': 2}\n",
    "BsmtExposure_encode= {'None':0, 'No':0, 'Mn':1, 'Av':2, 'Gd':3}\n",
    "BsmtFinType1_encode = BsmtFinType2_encode= {'None':0,'Unf':1,'LwQ':2,'Rec':3, 'BLQ':4, 'ALQ':5,'GLQ':6}\n",
    "Fence_encode = {'None':0, 'MnWw':1, 'GdWo':2, 'MnPrv':3, 'GdPrv':4}\n",
    "PavedDrive_encode = {'N':0, 'P':1, 'Y':2}\n",
    "LotShape_encode = {'IR3':0, 'IR2':1, 'IR1':2, 'Reg':3}#could replace all irregularities with one\n",
    "LandSlope_encodeg = {'Sev':1, 'Mod':2, 'Gtl':3}\n",
    "Utilities_encode = {'ELO':1, 'NoSeWa':2, 'NoSewr':3, 'AllPub':4}\n",
    "Electrical_encode= {'Mix':1, 'FuseP':2, 'FuseF':3, 'FuseA':4, 'SBrkr':5}\n",
    "Functional_encode = {'Sal':0, 'Sev':1, 'Maj1':2, 'Maj2':3, 'Mod':4, 'Min1':5, 'Min2':6, 'Typ':7}\n",
    "GarageFinish_encode = {'None':0, 'Unf':1, 'RFn':2, 'Fin':3}"
   ]
  },
  {
   "cell_type": "code",
   "execution_count": 28,
   "metadata": {},
   "outputs": [],
   "source": [
    "ordinal_cat_feats = ['Alley', 'BsmtCond', 'BsmtQual', 'BsmtExposure', 'BsmtFinType1', 'BsmtFinType2', 'ExterCond' , \\\n",
    "                    'ExterQual', 'Fence', 'FireplaceQu', 'Functional', 'GarageCond','GarageQual', 'HeatingQC', 'KitchenQual',\\\n",
    "                     'PavedDrive','Utilities','LotShape', 'LandSlope', 'Electrical', 'PoolQC', 'GarageFinish']\n",
    "ordinal_cat_encoders = {'Alley':Alley_encode, 'BsmtCond':BsmtCond_encode, 'BsmtQual':BsmtQual_encode,\\\n",
    "                        'BsmtExposure':BsmtExposure_encode, 'BsmtFinType1':BsmtFinType1_encode,\\\n",
    "                        'BsmtFinType2':BsmtFinType2_encode,'ExterCond': ExterCond_encode, 'ExterQual':ExterQual_encode,\\\n",
    "                        'FireplaceQu':FireplaceQu_encode, 'Functional':Functional_encode, 'GarageCond':GarageCond_encode,\\\n",
    "                        'HeatingQC':HeatingQC_encode, 'KitchenQual':KitchenQual_encode, 'PavedDrive':PavedDrive_encode,\\\n",
    "                        'Utilities':Utilities_encode,'LotShape':LotShape_encode, 'LandSlope':LandSlope_encodeg,\\\n",
    "                        'Electrical':Electrical_encode, 'PoolQC':PoolQC_encode, 'GarageFinish':GarageFinish_encode,\\\n",
    "                        'Fence':Fence_encode, 'GarageQual':GarageQual_encode}"
   ]
  },
  {
   "cell_type": "markdown",
   "metadata": {},
   "source": [
    "### Nominal features"
   ]
  },
  {
   "cell_type": "code",
   "execution_count": 29,
   "metadata": {},
   "outputs": [
    {
     "name": "stdout",
     "output_type": "stream",
     "text": [
      "['BldgType', 'CentralAir', 'Condition1', 'Condition2', 'Exterior1st', 'Exterior2nd', 'Foundation', 'GarageType', 'Heating', 'HouseStyle', 'LandContour', 'LotConfig', 'MSZoning', 'MasVnrType', 'MiscFeature', 'Neighborhood', 'RoofMatl', 'RoofStyle', 'SaleCondition', 'SaleType', 'Street']\n"
     ]
    }
   ],
   "source": [
    "nominal_cat_feats = [x for x in categoric_feats if x not in ordinal_cat_feats]\n",
    "print(nominal_cat_feats)"
   ]
  }
 ],
 "metadata": {
  "kernelspec": {
   "display_name": "Python 3",
   "language": "python",
   "name": "python3"
  },
  "language_info": {
   "codemirror_mode": {
    "name": "ipython",
    "version": 3
   },
   "file_extension": ".py",
   "mimetype": "text/x-python",
   "name": "python",
   "nbconvert_exporter": "python",
   "pygments_lexer": "ipython3",
   "version": "3.6.4"
  }
 },
 "nbformat": 4,
 "nbformat_minor": 2
}
