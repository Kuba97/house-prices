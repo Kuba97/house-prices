{
 "cells": [
  {
   "cell_type": "code",
   "execution_count": 1,
   "metadata": {},
   "outputs": [],
   "source": [
    "from data_loader import load_data\n",
    "import pandas as pd\n",
    "import numpy as np\n",
    "import matplotlib.pyplot as plt\n",
    "import seaborn as sns\n",
    "from scipy import stats"
   ]
  },
  {
   "cell_type": "code",
   "execution_count": 2,
   "metadata": {},
   "outputs": [],
   "source": [
    "train = load_data()"
   ]
  },
  {
   "cell_type": "markdown",
   "metadata": {},
   "source": [
    "## Dataset shape"
   ]
  },
  {
   "cell_type": "code",
   "execution_count": 3,
   "metadata": {},
   "outputs": [
    {
     "data": {
      "text/plain": [
       "(1460, 81)"
      ]
     },
     "execution_count": 3,
     "metadata": {},
     "output_type": "execute_result"
    }
   ],
   "source": [
    "train.shape"
   ]
  },
  {
   "cell_type": "markdown",
   "metadata": {},
   "source": [
    "## Variables"
   ]
  },
  {
   "cell_type": "code",
   "execution_count": 4,
   "metadata": {
    "scrolled": false
   },
   "outputs": [
    {
     "name": "stdout",
     "output_type": "stream",
     "text": [
      "Index(['Id', 'MSSubClass', 'MSZoning', 'LotFrontage', 'LotArea', 'Street',\n",
      "       'Alley', 'LotShape', 'LandContour', 'Utilities', 'LotConfig',\n",
      "       'LandSlope', 'Neighborhood', 'Condition1', 'Condition2', 'BldgType',\n",
      "       'HouseStyle', 'OverallQual', 'OverallCond', 'YearBuilt', 'YearRemodAdd',\n",
      "       'RoofStyle', 'RoofMatl', 'Exterior1st', 'Exterior2nd', 'MasVnrType',\n",
      "       'MasVnrArea', 'ExterQual', 'ExterCond', 'Foundation', 'BsmtQual',\n",
      "       'BsmtCond', 'BsmtExposure', 'BsmtFinType1', 'BsmtFinSF1',\n",
      "       'BsmtFinType2', 'BsmtFinSF2', 'BsmtUnfSF', 'TotalBsmtSF', 'Heating',\n",
      "       'HeatingQC', 'CentralAir', 'Electrical', '1stFlrSF', '2ndFlrSF',\n",
      "       'LowQualFinSF', 'GrLivArea', 'BsmtFullBath', 'BsmtHalfBath', 'FullBath',\n",
      "       'HalfBath', 'BedroomAbvGr', 'KitchenAbvGr', 'KitchenQual',\n",
      "       'TotRmsAbvGrd', 'Functional', 'Fireplaces', 'FireplaceQu', 'GarageType',\n",
      "       'GarageYrBlt', 'GarageFinish', 'GarageCars', 'GarageArea', 'GarageQual',\n",
      "       'GarageCond', 'PavedDrive', 'WoodDeckSF', 'OpenPorchSF',\n",
      "       'EnclosedPorch', '3SsnPorch', 'ScreenPorch', 'PoolArea', 'PoolQC',\n",
      "       'Fence', 'MiscFeature', 'MiscVal', 'MoSold', 'YrSold', 'SaleType',\n",
      "       'SaleCondition', 'SalePrice'],\n",
      "      dtype='object')\n"
     ]
    }
   ],
   "source": [
    "print(train.columns)"
   ]
  },
  {
   "cell_type": "markdown",
   "metadata": {},
   "source": [
    "At the first glance, in column space we see **Id** column which doesn't take part in model.  \n",
    "Column **SalePrice** is dependent variable; model objective is to predict future sales price for new unseen data.  \n",
    "So far we can say that dataset contains **1460 examples** with **79 features and 1 target variable per example**."
   ]
  },
  {
   "cell_type": "markdown",
   "metadata": {},
   "source": [
    "# Variable categories"
   ]
  },
  {
   "cell_type": "code",
   "execution_count": 5,
   "metadata": {},
   "outputs": [
    {
     "name": "stdout",
     "output_type": "stream",
     "text": [
      "Numeric var space:   38\n",
      "Categoric var space: 43\n"
     ]
    }
   ],
   "source": [
    "col_dtypes = train.dtypes\n",
    "numeric_feats = col_dtypes[col_dtypes != 'object'].axes[0].tolist()\n",
    "categoric_feats = col_dtypes[col_dtypes == 'object'].axes[0].tolist()\n",
    "print(f'Numeric var space:   {len(numeric_feats)}')\n",
    "print(f'Categoric var space: {len(categoric_feats)}')"
   ]
  },
  {
   "cell_type": "markdown",
   "metadata": {},
   "source": [
    "Numeric variable are both continuous and discrete containing **1 continuous dependent variable and other 37 numeric idependent variables**.   \n",
    "\n",
    "Remaining **43 variables are categorical**. Since models accepts only numerical data types, we have to perform appropriate encoding on these variables, however some encoding methods lead to widen feature space too much and during this exploration I want to figure out right trade-off for encoding strategy.  \n",
    "\n",
    "Data examples must be considered in terms of *missing values* and *outliers*. Right strategy to manage with this obstacles will be evaluated during process of exploration.\n",
    "\n",
    "Statistical analysis conducted in the next notebooks gives information about problems presented above. Moreover it will give me information about other desirable data preparation techniques which finally increase performance of models."
   ]
  },
  {
   "cell_type": "markdown",
   "metadata": {},
   "source": [
    "# Numercial varibles"
   ]
  },
  {
   "cell_type": "markdown",
   "metadata": {},
   "source": [
    "### Missing values"
   ]
  },
  {
   "cell_type": "code",
   "execution_count": 6,
   "metadata": {},
   "outputs": [
    {
     "data": {
      "text/plain": [
       "<matplotlib.axes._subplots.AxesSubplot at 0x294b27f5208>"
      ]
     },
     "execution_count": 6,
     "metadata": {},
     "output_type": "execute_result"
    },
    {
     "data": {
      "image/png": "[encoded data removed]",
      "text/plain": [
       "<Figure size 432x288 with 1 Axes>"
      ]
     },
     "metadata": {},
     "output_type": "display_data"
    }
   ],
   "source": [
    "nan_numeric_info = train[numeric_feats].isnull().sum()\n",
    "nan_numeric_feats = nan_numeric_info[nan_numeric_info>0]\n",
    "nan_numeric_feats.apply(lambda x: x/train.shape[0]).sort_values(ascending=False).plot(kind='bar', ylim=(0, 1))"
   ]
  },
  {
   "cell_type": "code",
   "execution_count": 7,
   "metadata": {},
   "outputs": [
    {
     "data": {
      "text/plain": [
       "array([nan], dtype=object)"
      ]
     },
     "execution_count": 7,
     "metadata": {},
     "output_type": "execute_result"
    }
   ],
   "source": [
    "MasVnrArea_null_idx = train['MasVnrArea'].isnull()\n",
    "train[MasVnrArea_null_idx]['MasVnrType'].unique()"
   ]
  },
  {
   "cell_type": "markdown",
   "metadata": {},
   "source": [
    "1. LotFrontage is strong correlated with LotArea (look at notebook 1.2.1). Since imputing with mean or mode or zero gives bad results (such imputed values doesn't follow correlation):\n",
    "    - it seems feasible to impute with regression (predict missing) \n",
    "    - we can also drop this feature (due to belief, that LotFrontage is reduntant to LotArea beacuse of correlation with LotArea)\n",
    "2. GarageYrBlt missing values are at random (look at notebook 1.2.1)\n",
    "    - GarageYrBlt may be set to 0, since it will vanish its term in regression  \n",
    "    - GarageYrBlt may be deleted\n",
    "3. MasVnrArea is set to NaN only when there is no masonry type specified"
   ]
  },
  {
   "cell_type": "markdown",
   "metadata": {},
   "source": [
    "### Numeric discrete\n",
    "Since there are many features with finite and small set of unique integers we can assume that are discrete values."
   ]
  },
  {
   "cell_type": "code",
   "execution_count": 71,
   "metadata": {},
   "outputs": [
    {
     "name": "stdout",
     "output_type": "stream",
     "text": [
      "['BsmtHalfBath', 'HalfBath', 'FullBath', 'BsmtFullBath', 'Fireplaces', 'KitchenAbvGr', 'GarageCars', 'YrSold', 'BedroomAbvGr', 'OverallCond', 'OverallQual', 'TotRmsAbvGrd', 'MoSold', 'MSSubClass', 'YearRemodAdd', 'GarageYrBlt', 'YearBuilt']\n"
     ]
    }
   ],
   "source": [
    "numeric_discrete = ['BsmtHalfBath', 'HalfBath','FullBath','BsmtFullBath','Fireplaces','KitchenAbvGr','GarageCars','YrSold', \\\n",
    "                    'BedroomAbvGr', 'OverallCond', 'OverallQual', 'TotRmsAbvGrd', 'MoSold', 'MSSubClass', 'YearRemodAdd', \\\n",
    "                   'GarageYrBlt', 'YearBuilt']\n",
    "print(numeric_discrete)"
   ]
  },
  {
   "cell_type": "markdown",
   "metadata": {},
   "source": [
    "### Numeric continuous\n",
    "Remaining variables which aren't qualified as discrete are continuous"
   ]
  },
  {
   "cell_type": "code",
   "execution_count": 72,
   "metadata": {},
   "outputs": [
    {
     "name": "stdout",
     "output_type": "stream",
     "text": [
      "['Id', 'LotFrontage', 'LotArea', 'MasVnrArea', 'BsmtFinSF1', 'BsmtFinSF2', 'BsmtUnfSF', 'TotalBsmtSF', '1stFlrSF', '2ndFlrSF', 'LowQualFinSF', 'GrLivArea', 'GarageArea', 'WoodDeckSF', 'OpenPorchSF', 'EnclosedPorch', '3SsnPorch', 'ScreenPorch', 'PoolArea', 'MiscVal', 'SalePrice']\n"
     ]
    }
   ],
   "source": [
    "numeric_continuous = [x for x in numeric_feats if x not in numeric_discrete]\n",
    "print(numeric_continuous)"
   ]
  },
  {
   "cell_type": "code",
   "execution_count": 74,
   "metadata": {},
   "outputs": [
    {
     "data": {
      "text/plain": [
       "True"
      ]
     },
     "execution_count": 74,
     "metadata": {},
     "output_type": "execute_result"
    }
   ],
   "source": [
    "#check if no numerical feature missed\n",
    "num_feats_set = set(numeric_discrete)|set(numeric_continuous)\n",
    "num_feats_set.issubset(set(numeric_feats)) & num_feats_set.issuperset(set(numeric_feats))"
   ]
  },
  {
   "cell_type": "markdown",
   "metadata": {},
   "source": [
    "# Categorical variables"
   ]
  },
  {
   "cell_type": "markdown",
   "metadata": {},
   "source": [
    "### Missing values"
   ]
  },
  {
   "cell_type": "code",
   "execution_count": 10,
   "metadata": {},
   "outputs": [
    {
     "data": {
      "image/png": "[encoded data removed]",
      "text/plain": [
       "<Figure size 432x288 with 1 Axes>"
      ]
     },
     "metadata": {},
     "output_type": "display_data"
    }
   ],
   "source": [
    "nan_categoric_info = train[categoric_feats].isnull().sum()\n",
    "nan_categoric_feats = nan_categoric_info[nan_categoric_info>0]\n",
    "if not nan_categoric_feats.empty:\n",
    "    nan_categoric_feats.apply(lambda x: x/train.shape[0]).sort_values(ascending=False).plot(kind='bar')\n",
    "else:\n",
    "    print(\"No missing value in such range\")"
   ]
  },
  {
   "cell_type": "markdown",
   "metadata": {},
   "source": [
    "1. Most of missing features presented above  are missing when there is no such feature in the house (like no pool, no basement, no garage, no masonry)\n",
    "    - they could be replaced with value like \"None\"\n",
    "2. Missing in electrical is random \n",
    "    - it could be replace e.g. with mode or we could do some more insight into this example (for purpose of delete this example, when classified as outlier)"
   ]
  },
  {
   "cell_type": "markdown",
   "metadata": {},
   "source": [
    "### Oridnal features\n",
    "Ordinal features can be distinguished from nominal via empirical analysis of the data, e.g. using own experience, some domain knowledge. The main objective of such work is to don't break feture into many binary (indicator) features.\n",
    "For ordinal features is feasible for replacing them with specified value with correct order.  \n",
    "**NOTES**  \n",
    "- Oridnal categorical features list may be reduce in order to ensure more accurate mapping from categorical to numerical (using dummies instead)"
   ]
  },
  {
   "cell_type": "code",
   "execution_count": 11,
   "metadata": {},
   "outputs": [
    {
     "name": "stdout",
     "output_type": "stream",
     "text": [
      "['Alley', 'BsmtCond', 'BsmtQual', 'BsmtExposure', 'BsmtFinType1', 'BsmtFinType2', 'ExterCond', 'ExterQual', 'Fence', 'FireplaceQu', 'Functional', 'GarageCond', 'GarageQual', 'HeatingQC', 'KitchenQual', 'PavedDrive', 'Utilities', 'LotShape', 'LandSlope', 'Electrical', 'PoolQC', 'GarageFinish']\n"
     ]
    }
   ],
   "source": [
    "ordinal_cat_feats = ['Alley', 'BsmtCond', 'BsmtQual', 'BsmtExposure', 'BsmtFinType1', 'BsmtFinType2', 'ExterCond' , \\\n",
    "                    'ExterQual', 'Fence', 'FireplaceQu', 'Functional', 'GarageCond','GarageQual', 'HeatingQC', 'KitchenQual',\\\n",
    "                     'PavedDrive','Utilities','LotShape', 'LandSlope', 'Electrical', 'PoolQC', 'GarageFinish']\n",
    "print(ordinal_cat_feats)"
   ]
  },
  {
   "cell_type": "code",
   "execution_count": 12,
   "metadata": {},
   "outputs": [
    {
     "data": {
      "image/png": "[encoded data removed]",
      "text/plain": [
       "<Figure size 1008x288 with 2 Axes>"
      ]
     },
     "metadata": {},
     "output_type": "display_data"
    }
   ],
   "source": [
    "fig, ax = plt.subplots(1, 2, figsize=(14,4))\n",
    "sns.pointplot(train['BsmtQual'],train['SalePrice'], ax=ax[0])\n",
    "sns.pointplot(train['BsmtQual'],train['SalePrice'], ax=ax[1], order=['Fa', 'TA', 'Gd', 'Ex'])\n",
    "ax[0].set_title('Unordered')\n",
    "ax[1].set_title('Ordered')\n",
    "fig.suptitle('Example of ordering vs target variable')\n",
    "plt.show()"
   ]
  },
  {
   "cell_type": "markdown",
   "metadata": {},
   "source": [
    "1. Handcrafted mappers ensures that there is no order violation during mapping, but this technique suffers from many hard-to-tackle problems\n",
    "- Since it's quite reasonable to handle mapping with own-designed mappers (for keep correct order), it's intractable to perform mapping during working with model (validation using pipelines have to do all this job \"on the fly\" to prevent data leakage)\n",
    "- Mapping should always keep the rule of not encoding values which doesn't exist in train set (or train subset in cross-validation), and such handcrafted mappers, did in advance, doesn't follow this rule\n",
    "- As shown on plots above, ordering values linearly (e.g. a-1, b-2, c-3 etc.) doesn't take into account that there may be some different spacing between values, so that features may not be ideally linearly distributed and only setting to dummies takes advantage of this problem, yet it leads to much increase in feature space, linear order could work well enough \n",
    "    - most trivial solution is to use e.g. sklearn.LabelEncoder (could be bad, beacuse in fact it orders at random)\n",
    "    - ordering with respect to SalePrice correaltion may be applied\n",
    "- When dealing with missing ordinal variable values, it should be set to 0 (if there is no other imputation strategy)"
   ]
  },
  {
   "cell_type": "markdown",
   "metadata": {},
   "source": [
    "### Nominal features\n",
    "Nominal features are these categoricals which order isn't known and hence decompoisng nominals to dummies is the only proper way to prepare them for model"
   ]
  },
  {
   "cell_type": "code",
   "execution_count": 13,
   "metadata": {},
   "outputs": [
    {
     "name": "stdout",
     "output_type": "stream",
     "text": [
      "['MSZoning', 'Street', 'LandContour', 'LotConfig', 'Neighborhood', 'Condition1', 'Condition2', 'BldgType', 'HouseStyle', 'RoofStyle', 'RoofMatl', 'Exterior1st', 'Exterior2nd', 'MasVnrType', 'Foundation', 'Heating', 'CentralAir', 'GarageType', 'MiscFeature', 'SaleType', 'SaleCondition']\n"
     ]
    }
   ],
   "source": [
    "nominal_cat_feats = [x for x in categoric_feats if x not in ordinal_cat_feats]\n",
    "print(nominal_cat_feats)"
   ]
  },
  {
   "cell_type": "code",
   "execution_count": 14,
   "metadata": {},
   "outputs": [
    {
     "data": {
      "text/plain": [
       "True"
      ]
     },
     "execution_count": 14,
     "metadata": {},
     "output_type": "execute_result"
    }
   ],
   "source": [
    "#check if no categorical feature missed\n",
    "cat_feats_set = set(nominal_cat_feats)|set(ordinal_cat_feats)\n",
    "cat_feats_set.issubset(set(categoric_feats)) & cat_feats_set.issuperset(set(categoric_feats))"
   ]
  }
 ],
 "metadata": {
  "kernelspec": {
   "display_name": "Python 3",
   "language": "python",
   "name": "python3"
  },
  "language_info": {
   "codemirror_mode": {
    "name": "ipython",
    "version": 3
   },
   "file_extension": ".py",
   "mimetype": "text/x-python",
   "name": "python",
   "nbconvert_exporter": "python",
   "pygments_lexer": "ipython3",
   "version": "3.6.4"
  }
 },
 "nbformat": 4,
 "nbformat_minor": 2
}
